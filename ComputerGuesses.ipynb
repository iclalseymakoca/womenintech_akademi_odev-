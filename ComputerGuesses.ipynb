{
  "nbformat": 4,
  "nbformat_minor": 0,
  "metadata": {
    "colab": {
      "provenance": [],
      "collapsed_sections": [],
      "authorship_tag": "ABX9TyPzomwIOYXFPi2tG6QeeCsc",
      "include_colab_link": true
    },
    "kernelspec": {
      "name": "python3",
      "display_name": "Python 3"
    },
    "language_info": {
      "name": "python"
    }
  },
  "cells": [
    {
      "cell_type": "markdown",
      "metadata": {
        "id": "view-in-github",
        "colab_type": "text"
      },
      "source": [
        "<a href=\"https://colab.research.google.com/github/simaxxk/womenintech_akademi_odev-/blob/main/ComputerGuesses.ipynb\" target=\"_parent\"><img src=\"https://colab.research.google.com/assets/colab-badge.svg\" alt=\"Open In Colab\"/></a>"
      ]
    },
    {
      "cell_type": "code",
      "execution_count": null,
      "metadata": {
        "colab": {
          "base_uri": "https://localhost:8080/"
        },
        "id": "C_4uiMlCBpk4",
        "outputId": "b2ebba34-49cf-44fb-fd72-ef16e78490c7"
      },
      "outputs": [
        {
          "output_type": "stream",
          "name": "stdout",
          "text": [
            "Keep a number in mind.\n",
            "175 If the value is greater than the value you have in mind (b), if it is less than (s), enter (t) if true. b\n",
            "93 If the value is greater than the value you have in mind (b), if it is less than (s), enter (t) if true. b\n",
            "24 If the value is greater than the value you have in mind (b), if it is less than (s), enter (t) if true. b\n",
            "23 If the value is greater than the value you have in mind (b), if it is less than (s), enter (t) if true. b\n",
            "22 If the value is greater than the value you have in mind (b), if it is less than (s), enter (t) if true. t\n",
            "Wow! That's the right guess.\n"
          ]
        }
      ],
      "source": [
        "import random\n",
        "print(\"Keep a number in mind.\")\n",
        "def computer_guess(x):\n",
        "    start = 22\n",
        "    end = 222\n",
        "    result = \"\"\n",
        "    while result != \"t\" :\n",
        "        guess = random.randint(start, end)\n",
        "        result = input(f\"{guess} If the value is greater than the value you have in mind (b), if it is less than (s), enter (t) if true. \").lower()\n",
        "        if result == \"b\":\n",
        "            end = guess -1 \n",
        "        elif result == \"s\":\n",
        "            start = guess +1\n",
        "    print(\"Wow! That's the right guess.\")\n",
        "\n",
        "\n",
        "computer_guess(22)"
      ]
    }
  ]
}