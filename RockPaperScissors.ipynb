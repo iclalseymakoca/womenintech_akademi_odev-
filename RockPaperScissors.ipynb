{
  "nbformat": 4,
  "nbformat_minor": 0,
  "metadata": {
    "colab": {
      "provenance": [],
      "collapsed_sections": [],
      "authorship_tag": "ABX9TyMW7JZeKcNaMSJjV1+m5zeL",
      "include_colab_link": true
    },
    "kernelspec": {
      "name": "python3",
      "display_name": "Python 3"
    },
    "language_info": {
      "name": "python"
    }
  },
  "cells": [
    {
      "cell_type": "markdown",
      "metadata": {
        "id": "view-in-github",
        "colab_type": "text"
      },
      "source": [
        "<a href=\"https://colab.research.google.com/github/simaxxk/womenintech_akademi_odev-/blob/main/RockPaperScissors.ipynb\" target=\"_parent\"><img src=\"https://colab.research.google.com/assets/colab-badge.svg\" alt=\"Open In Colab\"/></a>"
      ]
    },
    {
      "cell_type": "code",
      "execution_count": null,
      "metadata": {
        "colab": {
          "base_uri": "https://localhost:8080/"
        },
        "id": "9xr2_LDGKvJT",
        "outputId": "9a9efad0-fd01-4ab0-c428-dea5124f90bc"
      },
      "outputs": [
        {
          "output_type": "stream",
          "name": "stdout",
          "text": [
            "Welcome to Rock Paper Scissors Game\n",
            "-------------------------------------\n",
            "\n",
            "1- Rock\n",
            "2- Paper\n",
            "3- Scissors\n",
            " Please enter a value other than these values ​​to exit the game.\n",
            "Make your selection:2\n",
            "Play Again\n",
            "\n",
            "1- Rock\n",
            "2- Paper\n",
            "3- Scissors\n",
            " Please enter a value other than these values ​​to exit the game.\n",
            "Make your selection:3\n",
            "Play Again\n",
            "\n",
            "1- Rock\n",
            "2- Paper\n",
            "3- Scissors\n",
            " Please enter a value other than these values ​​to exit the game.\n",
            "Make your selection:1\n",
            "Computer Selection: 2\n",
            "\n",
            "Winner : Computer\n",
            "\n",
            "1- Rock\n",
            "2- Paper\n",
            "3- Scissors\n",
            " Please enter a value other than these values ​​to exit the game.\n",
            "Make your selection:3\n",
            "Computer Selection: 1\n",
            "\n",
            "Winner : Computer\n",
            "\n",
            "1- Rock\n",
            "2- Paper\n",
            "3- Scissors\n",
            " Please enter a value other than these values ​​to exit the game.\n",
            "Make your selection:2\n",
            "Computer Selection: 3\n",
            "\n",
            "Winner : Computer\n",
            "\n",
            "1- Rock\n",
            "2- Paper\n",
            "3- Scissors\n",
            " Please enter a value other than these values ​​to exit the game.\n",
            "Make your selection:3\n",
            "Computer Selection: 2\n",
            "\n",
            "Winner : User\n",
            "\n",
            "1- Rock\n",
            "2- Paper\n",
            "3- Scissors\n",
            " Please enter a value other than these values ​​to exit the game.\n"
          ]
        }
      ],
      "source": [
        "import random\n",
        "player_score = computer_score = 0\n",
        "computer_choice = 0\n",
        "def print_result(winner = \"Computer\"):\n",
        "    print(f\"Computer Selection: {computer_choice}\\n\\nWinner : {winner}\")\n",
        "    global computer_score, player_score\n",
        "    if winner == \"Computer\":\n",
        "        computer_score += 100\n",
        "    else:\n",
        "        player_score += 100\n",
        "\n",
        "print(\"Welcome to Rock Paper Scissors Game\\n\" + \"-\"*37)\n",
        "\n",
        "while True:\n",
        "    print(\"\\n1- Rock\\n2- Paper\\n3- Scissors\\n Please enter a value other than these values ​​to exit the game.\")\n",
        "    player_choice = int(input(\"Make your selection:\"))\n",
        "    computer_choice = random.choice([1,2,3])\n",
        "\n",
        "    if player_choice == computer_choice:\n",
        "        print(\"Play Again\")\n",
        "    elif player_choice == 1:\n",
        "        if computer_choice == 2:\n",
        "            print_result()\n",
        "        elif computer_choice == 3:\n",
        "            print_result(\"User\")\n",
        "    elif player_choice == 2:\n",
        "        if computer_choice == 1:\n",
        "            print_result(\"User\")\n",
        "        elif computer_choice == 3:\n",
        "            print_result()\n",
        "    elif player_choice == 3:\n",
        "        if computer_choice == 1:\n",
        "            print_result()\n",
        "        elif computer_choice == 2:\n",
        "            print_result(\"User\")\n",
        "    else:\n",
        "        break\n",
        "\n",
        "print(f\"User Score: {player_score} - Computer Score: {computer_score}\")\n",
        "if player_score < computer_score:\n",
        "    print(\"Winner: Computer\")\n",
        "elif computer_score < player_score:\n",
        "    print(\"Winner: User\")\n",
        "else:\n",
        "    print(\"Draw\")"
      ]
    }
  ]
}