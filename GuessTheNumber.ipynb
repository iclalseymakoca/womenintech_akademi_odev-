{
  "nbformat": 4,
  "nbformat_minor": 0,
  "metadata": {
    "colab": {
      "provenance": [],
      "collapsed_sections": [],
      "authorship_tag": "ABX9TyNtELMlgTTo9IjYQIkWDVqM",
      "include_colab_link": true
    },
    "kernelspec": {
      "name": "python3",
      "display_name": "Python 3"
    },
    "language_info": {
      "name": "python"
    }
  },
  "cells": [
    {
      "cell_type": "markdown",
      "metadata": {
        "id": "view-in-github",
        "colab_type": "text"
      },
      "source": [
        "<a href=\"https://colab.research.google.com/github/simaxxk/womenintech_akademi_odev-/blob/main/GuessTheNumber.ipynb\" target=\"_parent\"><img src=\"https://colab.research.google.com/assets/colab-badge.svg\" alt=\"Open In Colab\"/></a>"
      ]
    },
    {
      "cell_type": "code",
      "source": [
        "from random import randint\n",
        "\n",
        "def guess(number):\n",
        "    sayac = 0\n",
        "    user_number = int(input(\"Keep a number between 22 and 222 for the game :  \"))\n",
        "    while number != user_number:\n",
        "        counter=1\n",
        "        if number < user_number:\n",
        "            print(\"Sorry. The number is smaller.\")\n",
        "        else:\n",
        "            print(\"Sorry. The number is larger. \")\n",
        "        user_number = int (input(\"Re-guess the number please.\"))\n",
        "    else:\n",
        "        print(f\"congratulations! {counter} th guess, you got it right ! \")\n",
        "    \n",
        "\n",
        "\n",
        "guess(randint(22,222))"
      ],
      "metadata": {
        "colab": {
          "base_uri": "https://localhost:8080/"
        },
        "id": "omNsDNkU99Wp",
        "outputId": "e6f6541d-980d-4889-956f-0c5bfc12820d"
      },
      "execution_count": null,
      "outputs": [
        {
          "output_type": "stream",
          "name": "stdout",
          "text": [
            "Keep a number between 22 and 222 for the game :  100\n",
            "Sorry. The number is larger. \n",
            "Re-guess the number please.150\n",
            "Sorry. The number is smaller.\n",
            "Re-guess the number please.120\n",
            "Sorry. The number is larger. \n",
            "Re-guess the number please.130\n",
            "Sorry. The number is smaller.\n",
            "Re-guess the number please.121\n",
            "Sorry. The number is larger. \n",
            "Re-guess the number please.122\n",
            "Sorry. The number is larger. \n",
            "Re-guess the number please.123\n",
            "Sorry. The number is larger. \n",
            "Re-guess the number please.1234\n",
            "Sorry. The number is smaller.\n",
            "Re-guess the number please.123\n",
            "Sorry. The number is larger. \n",
            "Re-guess the number please.125\n",
            "Sorry. The number is larger. \n",
            "Re-guess the number please.126\n",
            "congratulations! 1 th guess, you got it right ! \n"
          ]
        }
      ]
    }
  ]
}